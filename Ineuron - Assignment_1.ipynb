{
 "cells": [
  {
   "cell_type": "code",
   "execution_count": null,
   "id": "7f688db7",
   "metadata": {},
   "outputs": [],
   "source": [
    "1. In the below elements which of them are values or an expression? eg:- values can be\n",
    "integer or string and expressions will be mathematical operators.\n",
    "*\n",
    "'hello'\n",
    "-87.8\n",
    "-\n",
    "/\n",
    "+\n",
    "6\n",
    "\n",
    "Answer=>  Values: 'hello', -87.8 and 6\n",
    "          Expressions: *, -, / and +"
   ]
  },
  {
   "cell_type": "code",
   "execution_count": null,
   "id": "3c3f8098",
   "metadata": {},
   "outputs": [],
   "source": [
    "2. What is the difference between string and variable?\n",
    "\n",
    "Answer=> String is a data type in which we can use alphabets or any integer value inside a single or double quotes.\n",
    "         For example: 'apoorv', 'Singh', '82345'.\n",
    "         Variable is used to store values of any datatype and it can be alphabets, integer or underscore but variable name cannot begin with integers. We can also store the string inside the variable.\n",
    "         For example: a = 'Apoorv', abcd = 2456"
   ]
  },
  {
   "cell_type": "code",
   "execution_count": null,
   "id": "ca9b7f01",
   "metadata": {},
   "outputs": [],
   "source": [
    "3. Describe three different data types.\n",
    "\n",
    "Answer=> Boolean: Boolean only return two types of values depend on given conditions i,e., True and False.\n",
    "         Integer: Integer consist of numbers and there is no maximum or minimum limit.\n",
    "         String:  String is a data type in which we can use alphabets or any integer value inside a single or double quotes."
   ]
  },
  {
   "cell_type": "code",
   "execution_count": null,
   "id": "d1495e4d",
   "metadata": {},
   "outputs": [],
   "source": [
    "4. What is an expression made up of? What do all expressions do?\n",
    "\n",
    "Answer=> An expression is a combination of operators and operands that is interpreted to produce some other value.\n",
    "         All expression is either used to evaluate the value or check the conditions."
   ]
  },
  {
   "cell_type": "code",
   "execution_count": null,
   "id": "3e43b672",
   "metadata": {},
   "outputs": [],
   "source": [
    "5. This assignment statements, like spam = 10. What is the difference between an expression and a statement?\n",
    "\n",
    "Answer=> Expression: An expression usually refers to a piece of code that can be evaluated to a value, and is composed of variables, operators, function calls, and literals.\n",
    "         Statements: A statement refers to a piece of code that executes a specific instruction and expression is also a statement."
   ]
  },
  {
   "cell_type": "code",
   "execution_count": null,
   "id": "c9d3ba26",
   "metadata": {},
   "outputs": [],
   "source": [
    "6. After running the following code, what does the variable bacon contain?\n",
    "bacon = 22\n",
    "bacon + 1\n",
    "\n",
    "Answer: Bacon value will be 22 as we are not increasing the value of bacon."
   ]
  },
  {
   "cell_type": "code",
   "execution_count": 46,
   "id": "ceb392d9",
   "metadata": {},
   "outputs": [
    {
     "ename": "SyntaxError",
     "evalue": "invalid syntax (Temp/ipykernel_4984/3857344448.py, line 5)",
     "output_type": "error",
     "traceback": [
      "\u001b[1;36m  File \u001b[1;32m\"C:\\Users\\apoor\\AppData\\Local\\Temp/ipykernel_4984/3857344448.py\"\u001b[1;36m, line \u001b[1;32m5\u001b[0m\n\u001b[1;33m    Answer: 'spam' + 'spamspam' -> spamspamspam\u001b[0m\n\u001b[1;37m                                ^\u001b[0m\n\u001b[1;31mSyntaxError\u001b[0m\u001b[1;31m:\u001b[0m invalid syntax\n"
     ]
    }
   ],
   "source": [
    "7. What should the values of the following two terms be?\n",
    "'spam' + 'spamspam'\n",
    "'spam' * 3\n",
    "\n",
    "Answer: 'spam' + 'spamspam' -> spamspamspam\n",
    "        'spam' * 3 -> spamspamspam"
   ]
  },
  {
   "cell_type": "code",
   "execution_count": null,
   "id": "7eeddfdb",
   "metadata": {},
   "outputs": [],
   "source": [
    "8. Why is eggs a valid variable name while 100 is invalid?\n",
    "\n",
    "Answer: Egg is a valid variable name because it start with alphabet while 100 is invalid because variable cannot start with integer."
   ]
  },
  {
   "cell_type": "code",
   "execution_count": null,
   "id": "3e2cfd93",
   "metadata": {},
   "outputs": [],
   "source": [
    "9. What three functions can be used to get the integer, floating-point number, or string version of a value?\n",
    "\n",
    "Answer: For Integer -> int()\n",
    "        For Floating point -> float()\n",
    "        For String -> str()"
   ]
  },
  {
   "cell_type": "code",
   "execution_count": null,
   "id": "aebe9e74",
   "metadata": {},
   "outputs": [],
   "source": [
    "10. Why does this expression cause an error? How can you fix it?\n",
    "'I have eaten ' + 99 + ' burritos.'\n",
    "\n",
    "Answer: This gives an error because we cannot concatenate string with integers. We can fix it by using 99 as string rather than integer.\n",
    "        For example: 'I have eaten ' + '99' + ' burritos.'"
   ]
  }
 ],
 "metadata": {
  "kernelspec": {
   "display_name": "Python 3 (ipykernel)",
   "language": "python",
   "name": "python3"
  },
  "language_info": {
   "codemirror_mode": {
    "name": "ipython",
    "version": 3
   },
   "file_extension": ".py",
   "mimetype": "text/x-python",
   "name": "python",
   "nbconvert_exporter": "python",
   "pygments_lexer": "ipython3",
   "version": "3.9.7"
  }
 },
 "nbformat": 4,
 "nbformat_minor": 5
}
